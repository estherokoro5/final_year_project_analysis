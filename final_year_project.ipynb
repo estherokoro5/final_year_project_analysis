{
 "cells": [
  {
   "cell_type": "code",
   "execution_count": 1,
   "id": "b4aeae96-ff0b-41d7-8f97-f92ee7495b11",
   "metadata": {},
   "outputs": [],
   "source": [
    "import pandas as pd\n",
    "import numpy as np\n",
    "import matplotlib.pyplot as plt"
   ]
  },
  {
   "cell_type": "code",
   "execution_count": 2,
   "id": "835d8c93-f502-4b44-ab14-4144dc07c4b1",
   "metadata": {},
   "outputs": [
    {
     "data": {
      "text/html": [
       "<div>\n",
       "<style scoped>\n",
       "    .dataframe tbody tr th:only-of-type {\n",
       "        vertical-align: middle;\n",
       "    }\n",
       "\n",
       "    .dataframe tbody tr th {\n",
       "        vertical-align: top;\n",
       "    }\n",
       "\n",
       "    .dataframe thead th {\n",
       "        text-align: right;\n",
       "    }\n",
       "</style>\n",
       "<table border=\"1\" class=\"dataframe\">\n",
       "  <thead>\n",
       "    <tr style=\"text-align: right;\">\n",
       "      <th></th>\n",
       "      <th>Control</th>\n",
       "      <th>GBS</th>\n",
       "      <th>PGS</th>\n",
       "    </tr>\n",
       "  </thead>\n",
       "  <tbody>\n",
       "    <tr>\n",
       "      <th>0</th>\n",
       "      <td>1.240</td>\n",
       "      <td>1.215</td>\n",
       "      <td>4.455</td>\n",
       "    </tr>\n",
       "    <tr>\n",
       "      <th>1</th>\n",
       "      <td>0.575</td>\n",
       "      <td>2.155</td>\n",
       "      <td>3.695</td>\n",
       "    </tr>\n",
       "    <tr>\n",
       "      <th>2</th>\n",
       "      <td>0.305</td>\n",
       "      <td>1.280</td>\n",
       "      <td>3.997</td>\n",
       "    </tr>\n",
       "    <tr>\n",
       "      <th>3</th>\n",
       "      <td>0.850</td>\n",
       "      <td>1.200</td>\n",
       "      <td>2.155</td>\n",
       "    </tr>\n",
       "    <tr>\n",
       "      <th>4</th>\n",
       "      <td>0.758</td>\n",
       "      <td>1.560</td>\n",
       "      <td>2.335</td>\n",
       "    </tr>\n",
       "    <tr>\n",
       "      <th>5</th>\n",
       "      <td>1.280</td>\n",
       "      <td>0.935</td>\n",
       "      <td>3.210</td>\n",
       "    </tr>\n",
       "  </tbody>\n",
       "</table>\n",
       "</div>"
      ],
      "text/plain": [
       "   Control    GBS    PGS\n",
       "0    1.240  1.215  4.455\n",
       "1    0.575  2.155  3.695\n",
       "2    0.305  1.280  3.997\n",
       "3    0.850  1.200  2.155\n",
       "4    0.758  1.560  2.335\n",
       "5    1.280  0.935  3.210"
      ]
     },
     "execution_count": 2,
     "metadata": {},
     "output_type": "execute_result"
    }
   ],
   "source": [
    "#importing data from Excel\n",
    "df = pd.read_excel(r\"C:\\Users\\DELL\\Desktop\\Cu_Analysis.xlsx\")\n",
    "raw = df\n",
    "raw"
   ]
  },
  {
   "cell_type": "code",
   "execution_count": 3,
   "id": "9279cc0a-287d-4993-8b1f-7c8b25429779",
   "metadata": {},
   "outputs": [
    {
     "name": "stdout",
     "output_type": "stream",
     "text": [
      "[0.83466667 1.39083333 3.30783333]\n"
     ]
    }
   ],
   "source": [
    "number_of_samples = len(df.axes[0])\n",
    "total_list = list(df[[\"Control\",\"GBS\",\"PGS\"]].sum())\n",
    "mean_list = np.array(total_list)/number_of_samples\n",
    "print(mean_list)\n"
   ]
  },
  {
   "cell_type": "code",
   "execution_count": 4,
   "id": "6cfa04db-2001-426f-a70d-73f5a05911c8",
   "metadata": {},
   "outputs": [
    {
     "data": {
      "text/html": [
       "<div>\n",
       "<style scoped>\n",
       "    .dataframe tbody tr th:only-of-type {\n",
       "        vertical-align: middle;\n",
       "    }\n",
       "\n",
       "    .dataframe tbody tr th {\n",
       "        vertical-align: top;\n",
       "    }\n",
       "\n",
       "    .dataframe thead th {\n",
       "        text-align: right;\n",
       "    }\n",
       "</style>\n",
       "<table border=\"1\" class=\"dataframe\">\n",
       "  <thead>\n",
       "    <tr style=\"text-align: right;\">\n",
       "      <th></th>\n",
       "      <th>Control</th>\n",
       "      <th>GBS</th>\n",
       "      <th>PGS</th>\n",
       "    </tr>\n",
       "  </thead>\n",
       "  <tbody>\n",
       "    <tr>\n",
       "      <th>0</th>\n",
       "      <td>1.240</td>\n",
       "      <td>1.215</td>\n",
       "      <td>4.455</td>\n",
       "    </tr>\n",
       "    <tr>\n",
       "      <th>1</th>\n",
       "      <td>0.575</td>\n",
       "      <td>2.155</td>\n",
       "      <td>3.695</td>\n",
       "    </tr>\n",
       "    <tr>\n",
       "      <th>2</th>\n",
       "      <td>0.305</td>\n",
       "      <td>1.280</td>\n",
       "      <td>3.997</td>\n",
       "    </tr>\n",
       "    <tr>\n",
       "      <th>3</th>\n",
       "      <td>0.850</td>\n",
       "      <td>1.200</td>\n",
       "      <td>2.155</td>\n",
       "    </tr>\n",
       "    <tr>\n",
       "      <th>4</th>\n",
       "      <td>0.758</td>\n",
       "      <td>1.560</td>\n",
       "      <td>2.335</td>\n",
       "    </tr>\n",
       "    <tr>\n",
       "      <th>5</th>\n",
       "      <td>1.280</td>\n",
       "      <td>0.935</td>\n",
       "      <td>3.210</td>\n",
       "    </tr>\n",
       "  </tbody>\n",
       "</table>\n",
       "</div>"
      ],
      "text/plain": [
       "   Control    GBS    PGS\n",
       "0    1.240  1.215  4.455\n",
       "1    0.575  2.155  3.695\n",
       "2    0.305  1.280  3.997\n",
       "3    0.850  1.200  2.155\n",
       "4    0.758  1.560  2.335\n",
       "5    1.280  0.935  3.210"
      ]
     },
     "execution_count": 4,
     "metadata": {},
     "output_type": "execute_result"
    }
   ],
   "source": [
    "df"
   ]
  },
  {
   "cell_type": "code",
   "execution_count": 5,
   "id": "b67cc9c6-4870-4c92-a313-c64d88dc4d12",
   "metadata": {},
   "outputs": [
    {
     "data": {
      "text/html": [
       "<div>\n",
       "<style scoped>\n",
       "    .dataframe tbody tr th:only-of-type {\n",
       "        vertical-align: middle;\n",
       "    }\n",
       "\n",
       "    .dataframe tbody tr th {\n",
       "        vertical-align: top;\n",
       "    }\n",
       "\n",
       "    .dataframe thead th {\n",
       "        text-align: right;\n",
       "    }\n",
       "</style>\n",
       "<table border=\"1\" class=\"dataframe\">\n",
       "  <thead>\n",
       "    <tr style=\"text-align: right;\">\n",
       "      <th></th>\n",
       "      <th>Control_sq_diff</th>\n",
       "      <th>GBS_sq_diff</th>\n",
       "      <th>PGS_sq_diff</th>\n",
       "    </tr>\n",
       "  </thead>\n",
       "  <tbody>\n",
       "    <tr>\n",
       "      <th>0</th>\n",
       "      <td>0.164295</td>\n",
       "      <td>0.030917</td>\n",
       "      <td>1.315991</td>\n",
       "    </tr>\n",
       "    <tr>\n",
       "      <th>1</th>\n",
       "      <td>0.067427</td>\n",
       "      <td>0.583951</td>\n",
       "      <td>0.149898</td>\n",
       "    </tr>\n",
       "    <tr>\n",
       "      <th>2</th>\n",
       "      <td>0.280547</td>\n",
       "      <td>0.012284</td>\n",
       "      <td>0.474951</td>\n",
       "    </tr>\n",
       "    <tr>\n",
       "      <th>3</th>\n",
       "      <td>0.000235</td>\n",
       "      <td>0.036417</td>\n",
       "      <td>1.329025</td>\n",
       "    </tr>\n",
       "    <tr>\n",
       "      <th>4</th>\n",
       "      <td>0.005878</td>\n",
       "      <td>0.028617</td>\n",
       "      <td>0.946405</td>\n",
       "    </tr>\n",
       "    <tr>\n",
       "      <th>5</th>\n",
       "      <td>0.198322</td>\n",
       "      <td>0.207784</td>\n",
       "      <td>0.009571</td>\n",
       "    </tr>\n",
       "  </tbody>\n",
       "</table>\n",
       "</div>"
      ],
      "text/plain": [
       "   Control_sq_diff  GBS_sq_diff  PGS_sq_diff\n",
       "0         0.164295     0.030917     1.315991\n",
       "1         0.067427     0.583951     0.149898\n",
       "2         0.280547     0.012284     0.474951\n",
       "3         0.000235     0.036417     1.329025\n",
       "4         0.005878     0.028617     0.946405\n",
       "5         0.198322     0.207784     0.009571"
      ]
     },
     "execution_count": 5,
     "metadata": {},
     "output_type": "execute_result"
    }
   ],
   "source": [
    "np_data_columns = df.to_numpy()\n",
    "sq_diff = ((np_data_columns - mean_list)**2)\n",
    "\n",
    "\n",
    "advanced_stat = pd.DataFrame(sq_diff)\n",
    "advanced_stat.columns = ['Control_sq_diff', 'GBS_sq_diff', 'PGS_sq_diff']\n",
    "advanced_stat\n",
    "\n",
    "\n"
   ]
  },
  {
   "cell_type": "code",
   "execution_count": 6,
   "id": "a4a56d46-a414-4598-bb39-2dc1d9d02745",
   "metadata": {},
   "outputs": [],
   "source": [
    "total_sq_diff = list(advanced_stat[['Control_sq_diff', 'GBS_sq_diff', 'PGS_sq_diff']].sum())\n",
    "variance_list = np.array(total_sq_diff)/number_of_samples"
   ]
  },
  {
   "cell_type": "code",
   "execution_count": 7,
   "id": "e024931c-ab76-46e1-8e36-1c7da61ddd0b",
   "metadata": {},
   "outputs": [
    {
     "data": {
      "text/html": [
       "<div>\n",
       "<style scoped>\n",
       "    .dataframe tbody tr th:only-of-type {\n",
       "        vertical-align: middle;\n",
       "    }\n",
       "\n",
       "    .dataframe tbody tr th {\n",
       "        vertical-align: top;\n",
       "    }\n",
       "\n",
       "    .dataframe thead th {\n",
       "        text-align: right;\n",
       "    }\n",
       "</style>\n",
       "<table border=\"1\" class=\"dataframe\">\n",
       "  <thead>\n",
       "    <tr style=\"text-align: right;\">\n",
       "      <th></th>\n",
       "      <th>Control</th>\n",
       "      <th>GBS</th>\n",
       "      <th>PGS</th>\n",
       "      <th>Control_sq_diff</th>\n",
       "      <th>GBS_sq_diff</th>\n",
       "      <th>PGS_sq_diff</th>\n",
       "    </tr>\n",
       "  </thead>\n",
       "  <tbody>\n",
       "    <tr>\n",
       "      <th>0</th>\n",
       "      <td>1.240</td>\n",
       "      <td>1.215</td>\n",
       "      <td>4.455</td>\n",
       "      <td>0.164295</td>\n",
       "      <td>0.030917</td>\n",
       "      <td>1.315991</td>\n",
       "    </tr>\n",
       "    <tr>\n",
       "      <th>1</th>\n",
       "      <td>0.575</td>\n",
       "      <td>2.155</td>\n",
       "      <td>3.695</td>\n",
       "      <td>0.067427</td>\n",
       "      <td>0.583951</td>\n",
       "      <td>0.149898</td>\n",
       "    </tr>\n",
       "    <tr>\n",
       "      <th>2</th>\n",
       "      <td>0.305</td>\n",
       "      <td>1.280</td>\n",
       "      <td>3.997</td>\n",
       "      <td>0.280547</td>\n",
       "      <td>0.012284</td>\n",
       "      <td>0.474951</td>\n",
       "    </tr>\n",
       "    <tr>\n",
       "      <th>3</th>\n",
       "      <td>0.850</td>\n",
       "      <td>1.200</td>\n",
       "      <td>2.155</td>\n",
       "      <td>0.000235</td>\n",
       "      <td>0.036417</td>\n",
       "      <td>1.329025</td>\n",
       "    </tr>\n",
       "    <tr>\n",
       "      <th>4</th>\n",
       "      <td>0.758</td>\n",
       "      <td>1.560</td>\n",
       "      <td>2.335</td>\n",
       "      <td>0.005878</td>\n",
       "      <td>0.028617</td>\n",
       "      <td>0.946405</td>\n",
       "    </tr>\n",
       "    <tr>\n",
       "      <th>5</th>\n",
       "      <td>1.280</td>\n",
       "      <td>0.935</td>\n",
       "      <td>3.210</td>\n",
       "      <td>0.198322</td>\n",
       "      <td>0.207784</td>\n",
       "      <td>0.009571</td>\n",
       "    </tr>\n",
       "  </tbody>\n",
       "</table>\n",
       "</div>"
      ],
      "text/plain": [
       "   Control    GBS    PGS  Control_sq_diff  GBS_sq_diff  PGS_sq_diff\n",
       "0    1.240  1.215  4.455         0.164295     0.030917     1.315991\n",
       "1    0.575  2.155  3.695         0.067427     0.583951     0.149898\n",
       "2    0.305  1.280  3.997         0.280547     0.012284     0.474951\n",
       "3    0.850  1.200  2.155         0.000235     0.036417     1.329025\n",
       "4    0.758  1.560  2.335         0.005878     0.028617     0.946405\n",
       "5    1.280  0.935  3.210         0.198322     0.207784     0.009571"
      ]
     },
     "execution_count": 7,
     "metadata": {},
     "output_type": "execute_result"
    }
   ],
   "source": [
    "result = df.join(advanced_stat)\n",
    "result"
   ]
  },
  {
   "cell_type": "code",
   "execution_count": 8,
   "id": "5ddbb600-bcee-4c02-ae66-09da6f901100",
   "metadata": {},
   "outputs": [
    {
     "data": {
      "text/plain": [
       "61.23555555555557"
      ]
     },
     "execution_count": 8,
     "metadata": {},
     "output_type": "execute_result"
    }
   ],
   "source": [
    "sum_tot = np.array(total_list).sum()\n",
    "sq_sum_tot = sum_tot**2\n",
    "num_raw_data = number_of_samples * df.shape[1]\n",
    "corr_fac = sq_sum_tot / num_raw_data\n",
    "corr_fac\n",
    "\n"
   ]
  },
  {
   "cell_type": "code",
   "execution_count": 9,
   "id": "0be9b882-034e-4b18-a13a-03d3c17f81a1",
   "metadata": {},
   "outputs": [
    {
     "data": {
      "text/plain": [
       "20.20152744444443"
      ]
     },
     "execution_count": 9,
     "metadata": {},
     "output_type": "execute_result"
    }
   ],
   "source": [
    "sq_each_col = np.array(total_list)**2\n",
    "mean_each_col = sq_each_col / number_of_samples\n",
    "compost_ss = mean_each_col.sum() - corr_fac\n",
    "compost_ss\n"
   ]
  },
  {
   "cell_type": "code",
   "execution_count": 10,
   "id": "fad9233c-5ff5-408e-be93-375a15ae5190",
   "metadata": {},
   "outputs": [],
   "source": [
    "new_sq_tb = raw\n",
    "col_to_sq = [\"Control\",\"GBS\",\"PGS\"]\n",
    "new_sq_tb[col_to_sq] = new_sq_tb[col_to_sq] ** 2\n",
    "total_list_sq = list(new_sq_tb[[\"Control\",\"GBS\",\"PGS\"]].sum())\n",
    "\n",
    "                     \n",
    "# new_sq_tb\n",
    "# compost_sq_tot = list(np.array(new_sq_tb[col_to_sq]))\n",
    "# compost_sq_tot\n"
   ]
  },
  {
   "cell_type": "code",
   "execution_count": 11,
   "id": "0789f8c0-deeb-46e7-96bd-1dc2c5a7b4e1",
   "metadata": {},
   "outputs": [
    {
     "data": {
      "text/plain": [
       "26.044042444444422"
      ]
     },
     "execution_count": 11,
     "metadata": {},
     "output_type": "execute_result"
    }
   ],
   "source": [
    "compost_ss_tot = np.array(total_list_sq).sum() - corr_fac\n",
    "compost_ss_tot\n"
   ]
  },
  {
   "cell_type": "code",
   "execution_count": 12,
   "id": "d149d6c8-a606-4bca-b0d6-dc46fc9a2950",
   "metadata": {},
   "outputs": [
    {
     "data": {
      "text/plain": [
       "10.100763722222215"
      ]
     },
     "execution_count": 12,
     "metadata": {},
     "output_type": "execute_result"
    }
   ],
   "source": [
    "deg_fr = 2\n",
    "mean_ss = compost_ss / deg_fr\n",
    "mean_ss"
   ]
  },
  {
   "cell_type": "code",
   "execution_count": 13,
   "id": "553b48fd-d42e-46e6-9989-b2a01d3031be",
   "metadata": {},
   "outputs": [
    {
     "data": {
      "text/plain": [
       "0.38950099999999943"
      ]
     },
     "execution_count": 13,
     "metadata": {},
     "output_type": "execute_result"
    }
   ],
   "source": [
    "df_ss = compost_ss_tot - compost_ss\n",
    "ms_err = df_ss / (num_raw_data - deg_fr - 1)\n",
    "ms_err"
   ]
  },
  {
   "cell_type": "code",
   "execution_count": 14,
   "id": "730f8f6b-6e9a-49f9-b1ee-d4c93aeb17df",
   "metadata": {},
   "outputs": [
    {
     "data": {
      "text/plain": [
       "25.932574556219958"
      ]
     },
     "execution_count": 14,
     "metadata": {},
     "output_type": "execute_result"
    }
   ],
   "source": [
    "f_cal = mean_ss / ms_err\n",
    "f_cal"
   ]
  },
  {
   "cell_type": "code",
   "execution_count": 15,
   "id": "2e991e31-72cc-4ad3-8e80-c686117e45dc",
   "metadata": {},
   "outputs": [
    {
     "data": {
      "text/html": [
       "<div>\n",
       "<style scoped>\n",
       "    .dataframe tbody tr th:only-of-type {\n",
       "        vertical-align: middle;\n",
       "    }\n",
       "\n",
       "    .dataframe tbody tr th {\n",
       "        vertical-align: top;\n",
       "    }\n",
       "\n",
       "    .dataframe thead th {\n",
       "        text-align: right;\n",
       "    }\n",
       "</style>\n",
       "<table border=\"1\" class=\"dataframe\">\n",
       "  <thead>\n",
       "    <tr style=\"text-align: right;\">\n",
       "      <th></th>\n",
       "      <th>Degree of freedom</th>\n",
       "      <th>Sum of squares</th>\n",
       "      <th>Mean square</th>\n",
       "      <th>Fcal</th>\n",
       "    </tr>\n",
       "  </thead>\n",
       "  <tbody>\n",
       "    <tr>\n",
       "      <th>Composts</th>\n",
       "      <td>2</td>\n",
       "      <td>20.201527</td>\n",
       "      <td>10.100764</td>\n",
       "      <td>25.932575</td>\n",
       "    </tr>\n",
       "    <tr>\n",
       "      <th>Error</th>\n",
       "      <td>16</td>\n",
       "      <td>5.842515</td>\n",
       "      <td>0.389501</td>\n",
       "      <td>25.932575</td>\n",
       "    </tr>\n",
       "  </tbody>\n",
       "</table>\n",
       "</div>"
      ],
      "text/plain": [
       "          Degree of freedom  Sum of squares  Mean square       Fcal\n",
       "Composts                  2       20.201527    10.100764  25.932575\n",
       "Error                    16        5.842515     0.389501  25.932575"
      ]
     },
     "execution_count": 15,
     "metadata": {},
     "output_type": "execute_result"
    }
   ],
   "source": [
    "data = {\n",
    "    'Degree of freedom': [deg_fr, num_raw_data-deg_fr],\n",
    "    'Sum of squares': [compost_ss, df_ss],\n",
    "    'Mean square': [mean_ss, ms_err],\n",
    "    'Fcal': [f_cal]\n",
    "}\n",
    "\n",
    "row_labels = ['Composts', 'Error']\n",
    "\n",
    "# Create the DataFrame\n",
    "anova_tab = pd.DataFrame(data, index=row_labels)\n",
    "anova_tab"
   ]
  },
  {
   "cell_type": "code",
   "execution_count": null,
   "id": "5e1ee152-09dd-4593-8e1b-45b82350bbf7",
   "metadata": {},
   "outputs": [],
   "source": []
  }
 ],
 "metadata": {
  "kernelspec": {
   "display_name": "Python 3 (ipykernel)",
   "language": "python",
   "name": "python3"
  },
  "language_info": {
   "codemirror_mode": {
    "name": "ipython",
    "version": 3
   },
   "file_extension": ".py",
   "mimetype": "text/x-python",
   "name": "python",
   "nbconvert_exporter": "python",
   "pygments_lexer": "ipython3",
   "version": "3.11.7"
  }
 },
 "nbformat": 4,
 "nbformat_minor": 5
}
